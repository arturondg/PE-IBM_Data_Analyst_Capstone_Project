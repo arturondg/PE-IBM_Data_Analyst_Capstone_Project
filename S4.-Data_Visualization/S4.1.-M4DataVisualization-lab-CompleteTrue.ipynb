{
 "cells": [
  {
   "cell_type": "markdown",
   "metadata": {},
   "source": [
    "<p style=\"text-align:center\">\n",
    "    <a href=\"https://skills.network/?utm_medium=Exinfluencer&utm_source=Exinfluencer&utm_content=000026UJ&utm_term=10006555&utm_id=NA-SkillsNetwork-Channel-SkillsNetworkCoursesIBMDA0321ENSkillsNetwork21426264-2022-01-01\" target=\"_blank\">\n",
    "    <img src=\"https://cf-courses-data.s3.us.cloud-object-storage.appdomain.cloud/assets/logos/SN_web_lightmode.png\" width=\"200\" alt=\"Skills Network Logo\"  />\n",
    "    </a>\n",
    "</p>\n"
   ]
  },
  {
   "cell_type": "markdown",
   "metadata": {},
   "source": [
    "# **Data Visualization Lab**\n"
   ]
  },
  {
   "cell_type": "markdown",
   "metadata": {},
   "source": [
    "Estimated time needed: **45 to 60** minutes\n"
   ]
  },
  {
   "cell_type": "markdown",
   "metadata": {},
   "source": [
    "In this assignment you will be focusing on the visualization of data.\n",
    "\n",
    "The data set will be presented to you in the form of a RDBMS.\n",
    "\n",
    "You will have to use SQL queries to extract the data.\n"
   ]
  },
  {
   "cell_type": "markdown",
   "metadata": {},
   "source": [
    "## Objectives\n"
   ]
  },
  {
   "cell_type": "markdown",
   "metadata": {},
   "source": [
    "In this lab you will perform the following:\n"
   ]
  },
  {
   "cell_type": "markdown",
   "metadata": {},
   "source": [
    "*   Visualize the distribution of data.\n",
    "\n",
    "*   Visualize the relationship between two features.\n",
    "\n",
    "*   Visualize composition of data.\n",
    "\n",
    "*   Visualize comparison of data.\n"
   ]
  },
  {
   "cell_type": "markdown",
   "metadata": {},
   "source": [
    "<hr>\n"
   ]
  },
  {
   "cell_type": "markdown",
   "metadata": {},
   "source": [
    "## Demo: How to work with database\n"
   ]
  },
  {
   "cell_type": "markdown",
   "metadata": {},
   "source": [
    "Download database file.\n"
   ]
  },
  {
   "cell_type": "code",
   "execution_count": 1,
   "metadata": {},
   "outputs": [
    {
     "name": "stdout",
     "output_type": "stream",
     "text": [
      "--2022-12-30 05:36:51--  https://cf-courses-data.s3.us.cloud-object-storage.appdomain.cloud/IBM-DA0321EN-SkillsNetwork/LargeData/m4_survey_data.sqlite\n",
      "Resolving cf-courses-data.s3.us.cloud-object-storage.appdomain.cloud (cf-courses-data.s3.us.cloud-object-storage.appdomain.cloud)... 169.63.118.104\n",
      "Connecting to cf-courses-data.s3.us.cloud-object-storage.appdomain.cloud (cf-courses-data.s3.us.cloud-object-storage.appdomain.cloud)|169.63.118.104|:443... connected.\n",
      "HTTP request sent, awaiting response... 200 OK\n",
      "Length: 36679680 (35M) [application/octet-stream]\n",
      "Saving to: ‘m4_survey_data.sqlite’\n",
      "\n",
      "m4_survey_data.sqli 100%[===================>]  34.98M  27.4MB/s    in 1.3s    \n",
      "\n",
      "2022-12-30 05:36:53 (27.4 MB/s) - ‘m4_survey_data.sqlite’ saved [36679680/36679680]\n",
      "\n"
     ]
    }
   ],
   "source": [
    "!wget https://cf-courses-data.s3.us.cloud-object-storage.appdomain.cloud/IBM-DA0321EN-SkillsNetwork/LargeData/m4_survey_data.sqlite"
   ]
  },
  {
   "cell_type": "markdown",
   "metadata": {},
   "source": [
    "Connect to the database.\n"
   ]
  },
  {
   "cell_type": "code",
   "execution_count": 78,
   "metadata": {},
   "outputs": [],
   "source": [
    "import sqlite3\n",
    "conn = sqlite3.connect(\"m4_survey_data.sqlite\") # open a database connection"
   ]
  },
  {
   "cell_type": "markdown",
   "metadata": {},
   "source": [
    "Import pandas module.\n"
   ]
  },
  {
   "cell_type": "code",
   "execution_count": 3,
   "metadata": {},
   "outputs": [],
   "source": [
    "import pandas as pd"
   ]
  },
  {
   "cell_type": "markdown",
   "metadata": {},
   "source": [
    "## Demo: How to run an sql query\n"
   ]
  },
  {
   "cell_type": "code",
   "execution_count": 4,
   "metadata": {},
   "outputs": [
    {
     "data": {
      "text/html": [
       "<div>\n",
       "<style scoped>\n",
       "    .dataframe tbody tr th:only-of-type {\n",
       "        vertical-align: middle;\n",
       "    }\n",
       "\n",
       "    .dataframe tbody tr th {\n",
       "        vertical-align: top;\n",
       "    }\n",
       "\n",
       "    .dataframe thead th {\n",
       "        text-align: right;\n",
       "    }\n",
       "</style>\n",
       "<table border=\"1\" class=\"dataframe\">\n",
       "  <thead>\n",
       "    <tr style=\"text-align: right;\">\n",
       "      <th></th>\n",
       "      <th>COUNT(*)</th>\n",
       "    </tr>\n",
       "  </thead>\n",
       "  <tbody>\n",
       "    <tr>\n",
       "      <th>0</th>\n",
       "      <td>11398</td>\n",
       "    </tr>\n",
       "  </tbody>\n",
       "</table>\n",
       "</div>"
      ],
      "text/plain": [
       "   COUNT(*)\n",
       "0     11398"
      ]
     },
     "execution_count": 4,
     "metadata": {},
     "output_type": "execute_result"
    }
   ],
   "source": [
    "# print how many rows are there in the table named 'master'\n",
    "QUERY = \"\"\"\n",
    "SELECT COUNT(*)\n",
    "FROM master\n",
    "\"\"\"\n",
    "\n",
    "# the read_sql_query runs the sql query and returns the data as a dataframe\n",
    "df = pd.read_sql_query(QUERY,conn)\n",
    "df.head()"
   ]
  },
  {
   "cell_type": "markdown",
   "metadata": {},
   "source": [
    "## Demo: How to list all tables\n"
   ]
  },
  {
   "cell_type": "code",
   "execution_count": 5,
   "metadata": {
    "scrolled": true
   },
   "outputs": [
    {
     "data": {
      "text/html": [
       "<div>\n",
       "<style scoped>\n",
       "    .dataframe tbody tr th:only-of-type {\n",
       "        vertical-align: middle;\n",
       "    }\n",
       "\n",
       "    .dataframe tbody tr th {\n",
       "        vertical-align: top;\n",
       "    }\n",
       "\n",
       "    .dataframe thead th {\n",
       "        text-align: right;\n",
       "    }\n",
       "</style>\n",
       "<table border=\"1\" class=\"dataframe\">\n",
       "  <thead>\n",
       "    <tr style=\"text-align: right;\">\n",
       "      <th></th>\n",
       "      <th>Table_Name</th>\n",
       "    </tr>\n",
       "  </thead>\n",
       "  <tbody>\n",
       "    <tr>\n",
       "      <th>0</th>\n",
       "      <td>EduOther</td>\n",
       "    </tr>\n",
       "    <tr>\n",
       "      <th>1</th>\n",
       "      <td>DevType</td>\n",
       "    </tr>\n",
       "    <tr>\n",
       "      <th>2</th>\n",
       "      <td>LastInt</td>\n",
       "    </tr>\n",
       "    <tr>\n",
       "      <th>3</th>\n",
       "      <td>JobFactors</td>\n",
       "    </tr>\n",
       "    <tr>\n",
       "      <th>4</th>\n",
       "      <td>WorkPlan</td>\n",
       "    </tr>\n",
       "    <tr>\n",
       "      <th>5</th>\n",
       "      <td>WorkChallenge</td>\n",
       "    </tr>\n",
       "    <tr>\n",
       "      <th>6</th>\n",
       "      <td>LanguageWorkedWith</td>\n",
       "    </tr>\n",
       "    <tr>\n",
       "      <th>7</th>\n",
       "      <td>LanguageDesireNextYear</td>\n",
       "    </tr>\n",
       "    <tr>\n",
       "      <th>8</th>\n",
       "      <td>DatabaseWorkedWith</td>\n",
       "    </tr>\n",
       "    <tr>\n",
       "      <th>9</th>\n",
       "      <td>DatabaseDesireNextYear</td>\n",
       "    </tr>\n",
       "    <tr>\n",
       "      <th>10</th>\n",
       "      <td>PlatformWorkedWith</td>\n",
       "    </tr>\n",
       "    <tr>\n",
       "      <th>11</th>\n",
       "      <td>PlatformDesireNextYear</td>\n",
       "    </tr>\n",
       "    <tr>\n",
       "      <th>12</th>\n",
       "      <td>WebFrameWorkedWith</td>\n",
       "    </tr>\n",
       "    <tr>\n",
       "      <th>13</th>\n",
       "      <td>WebFrameDesireNextYear</td>\n",
       "    </tr>\n",
       "    <tr>\n",
       "      <th>14</th>\n",
       "      <td>MiscTechWorkedWith</td>\n",
       "    </tr>\n",
       "    <tr>\n",
       "      <th>15</th>\n",
       "      <td>MiscTechDesireNextYear</td>\n",
       "    </tr>\n",
       "    <tr>\n",
       "      <th>16</th>\n",
       "      <td>DevEnviron</td>\n",
       "    </tr>\n",
       "    <tr>\n",
       "      <th>17</th>\n",
       "      <td>Containers</td>\n",
       "    </tr>\n",
       "    <tr>\n",
       "      <th>18</th>\n",
       "      <td>SOVisitTo</td>\n",
       "    </tr>\n",
       "    <tr>\n",
       "      <th>19</th>\n",
       "      <td>SONewContent</td>\n",
       "    </tr>\n",
       "    <tr>\n",
       "      <th>20</th>\n",
       "      <td>Gender</td>\n",
       "    </tr>\n",
       "    <tr>\n",
       "      <th>21</th>\n",
       "      <td>Sexuality</td>\n",
       "    </tr>\n",
       "    <tr>\n",
       "      <th>22</th>\n",
       "      <td>Ethnicity</td>\n",
       "    </tr>\n",
       "    <tr>\n",
       "      <th>23</th>\n",
       "      <td>master</td>\n",
       "    </tr>\n",
       "  </tbody>\n",
       "</table>\n",
       "</div>"
      ],
      "text/plain": [
       "                Table_Name\n",
       "0                 EduOther\n",
       "1                  DevType\n",
       "2                  LastInt\n",
       "3               JobFactors\n",
       "4                 WorkPlan\n",
       "5            WorkChallenge\n",
       "6       LanguageWorkedWith\n",
       "7   LanguageDesireNextYear\n",
       "8       DatabaseWorkedWith\n",
       "9   DatabaseDesireNextYear\n",
       "10      PlatformWorkedWith\n",
       "11  PlatformDesireNextYear\n",
       "12      WebFrameWorkedWith\n",
       "13  WebFrameDesireNextYear\n",
       "14      MiscTechWorkedWith\n",
       "15  MiscTechDesireNextYear\n",
       "16              DevEnviron\n",
       "17              Containers\n",
       "18               SOVisitTo\n",
       "19            SONewContent\n",
       "20                  Gender\n",
       "21               Sexuality\n",
       "22               Ethnicity\n",
       "23                  master"
      ]
     },
     "execution_count": 5,
     "metadata": {},
     "output_type": "execute_result"
    }
   ],
   "source": [
    "# print all the tables names in the database\n",
    "QUERY = \"\"\"\n",
    "SELECT name as Table_Name FROM\n",
    "sqlite_master WHERE\n",
    "type = 'table'\n",
    "\"\"\"\n",
    "# the read_sql_query runs the sql query and returns the data as a dataframe\n",
    "pd.read_sql_query(QUERY,conn)\n"
   ]
  },
  {
   "cell_type": "markdown",
   "metadata": {},
   "source": [
    "## Demo: How to run a group by query\n"
   ]
  },
  {
   "cell_type": "code",
   "execution_count": 6,
   "metadata": {},
   "outputs": [
    {
     "data": {
      "text/html": [
       "<div>\n",
       "<style scoped>\n",
       "    .dataframe tbody tr th:only-of-type {\n",
       "        vertical-align: middle;\n",
       "    }\n",
       "\n",
       "    .dataframe tbody tr th {\n",
       "        vertical-align: top;\n",
       "    }\n",
       "\n",
       "    .dataframe thead th {\n",
       "        text-align: right;\n",
       "    }\n",
       "</style>\n",
       "<table border=\"1\" class=\"dataframe\">\n",
       "  <thead>\n",
       "    <tr style=\"text-align: right;\">\n",
       "      <th></th>\n",
       "      <th>Age</th>\n",
       "      <th>count</th>\n",
       "    </tr>\n",
       "  </thead>\n",
       "  <tbody>\n",
       "    <tr>\n",
       "      <th>0</th>\n",
       "      <td>NaN</td>\n",
       "      <td>287</td>\n",
       "    </tr>\n",
       "    <tr>\n",
       "      <th>1</th>\n",
       "      <td>16.0</td>\n",
       "      <td>3</td>\n",
       "    </tr>\n",
       "    <tr>\n",
       "      <th>2</th>\n",
       "      <td>17.0</td>\n",
       "      <td>6</td>\n",
       "    </tr>\n",
       "    <tr>\n",
       "      <th>3</th>\n",
       "      <td>18.0</td>\n",
       "      <td>29</td>\n",
       "    </tr>\n",
       "    <tr>\n",
       "      <th>4</th>\n",
       "      <td>19.0</td>\n",
       "      <td>78</td>\n",
       "    </tr>\n",
       "    <tr>\n",
       "      <th>5</th>\n",
       "      <td>20.0</td>\n",
       "      <td>109</td>\n",
       "    </tr>\n",
       "    <tr>\n",
       "      <th>6</th>\n",
       "      <td>21.0</td>\n",
       "      <td>203</td>\n",
       "    </tr>\n",
       "    <tr>\n",
       "      <th>7</th>\n",
       "      <td>22.0</td>\n",
       "      <td>406</td>\n",
       "    </tr>\n",
       "    <tr>\n",
       "      <th>8</th>\n",
       "      <td>23.0</td>\n",
       "      <td>581</td>\n",
       "    </tr>\n",
       "    <tr>\n",
       "      <th>9</th>\n",
       "      <td>24.0</td>\n",
       "      <td>679</td>\n",
       "    </tr>\n",
       "    <tr>\n",
       "      <th>10</th>\n",
       "      <td>25.0</td>\n",
       "      <td>738</td>\n",
       "    </tr>\n",
       "    <tr>\n",
       "      <th>11</th>\n",
       "      <td>26.0</td>\n",
       "      <td>720</td>\n",
       "    </tr>\n",
       "    <tr>\n",
       "      <th>12</th>\n",
       "      <td>27.0</td>\n",
       "      <td>724</td>\n",
       "    </tr>\n",
       "    <tr>\n",
       "      <th>13</th>\n",
       "      <td>28.0</td>\n",
       "      <td>787</td>\n",
       "    </tr>\n",
       "    <tr>\n",
       "      <th>14</th>\n",
       "      <td>29.0</td>\n",
       "      <td>697</td>\n",
       "    </tr>\n",
       "    <tr>\n",
       "      <th>15</th>\n",
       "      <td>30.0</td>\n",
       "      <td>651</td>\n",
       "    </tr>\n",
       "    <tr>\n",
       "      <th>16</th>\n",
       "      <td>31.0</td>\n",
       "      <td>531</td>\n",
       "    </tr>\n",
       "    <tr>\n",
       "      <th>17</th>\n",
       "      <td>32.0</td>\n",
       "      <td>489</td>\n",
       "    </tr>\n",
       "    <tr>\n",
       "      <th>18</th>\n",
       "      <td>33.0</td>\n",
       "      <td>483</td>\n",
       "    </tr>\n",
       "    <tr>\n",
       "      <th>19</th>\n",
       "      <td>34.0</td>\n",
       "      <td>395</td>\n",
       "    </tr>\n",
       "    <tr>\n",
       "      <th>20</th>\n",
       "      <td>35.0</td>\n",
       "      <td>393</td>\n",
       "    </tr>\n",
       "    <tr>\n",
       "      <th>21</th>\n",
       "      <td>36.0</td>\n",
       "      <td>308</td>\n",
       "    </tr>\n",
       "    <tr>\n",
       "      <th>22</th>\n",
       "      <td>37.0</td>\n",
       "      <td>280</td>\n",
       "    </tr>\n",
       "    <tr>\n",
       "      <th>23</th>\n",
       "      <td>38.0</td>\n",
       "      <td>279</td>\n",
       "    </tr>\n",
       "    <tr>\n",
       "      <th>24</th>\n",
       "      <td>39.0</td>\n",
       "      <td>232</td>\n",
       "    </tr>\n",
       "    <tr>\n",
       "      <th>25</th>\n",
       "      <td>40.0</td>\n",
       "      <td>187</td>\n",
       "    </tr>\n",
       "    <tr>\n",
       "      <th>26</th>\n",
       "      <td>41.0</td>\n",
       "      <td>136</td>\n",
       "    </tr>\n",
       "    <tr>\n",
       "      <th>27</th>\n",
       "      <td>42.0</td>\n",
       "      <td>162</td>\n",
       "    </tr>\n",
       "    <tr>\n",
       "      <th>28</th>\n",
       "      <td>43.0</td>\n",
       "      <td>100</td>\n",
       "    </tr>\n",
       "    <tr>\n",
       "      <th>29</th>\n",
       "      <td>44.0</td>\n",
       "      <td>95</td>\n",
       "    </tr>\n",
       "    <tr>\n",
       "      <th>30</th>\n",
       "      <td>45.0</td>\n",
       "      <td>85</td>\n",
       "    </tr>\n",
       "    <tr>\n",
       "      <th>31</th>\n",
       "      <td>46.0</td>\n",
       "      <td>66</td>\n",
       "    </tr>\n",
       "    <tr>\n",
       "      <th>32</th>\n",
       "      <td>47.0</td>\n",
       "      <td>68</td>\n",
       "    </tr>\n",
       "    <tr>\n",
       "      <th>33</th>\n",
       "      <td>48.0</td>\n",
       "      <td>64</td>\n",
       "    </tr>\n",
       "    <tr>\n",
       "      <th>34</th>\n",
       "      <td>49.0</td>\n",
       "      <td>66</td>\n",
       "    </tr>\n",
       "    <tr>\n",
       "      <th>35</th>\n",
       "      <td>50.0</td>\n",
       "      <td>57</td>\n",
       "    </tr>\n",
       "    <tr>\n",
       "      <th>36</th>\n",
       "      <td>51.0</td>\n",
       "      <td>29</td>\n",
       "    </tr>\n",
       "    <tr>\n",
       "      <th>37</th>\n",
       "      <td>52.0</td>\n",
       "      <td>41</td>\n",
       "    </tr>\n",
       "    <tr>\n",
       "      <th>38</th>\n",
       "      <td>53.0</td>\n",
       "      <td>32</td>\n",
       "    </tr>\n",
       "    <tr>\n",
       "      <th>39</th>\n",
       "      <td>54.0</td>\n",
       "      <td>26</td>\n",
       "    </tr>\n",
       "    <tr>\n",
       "      <th>40</th>\n",
       "      <td>55.0</td>\n",
       "      <td>13</td>\n",
       "    </tr>\n",
       "    <tr>\n",
       "      <th>41</th>\n",
       "      <td>56.0</td>\n",
       "      <td>16</td>\n",
       "    </tr>\n",
       "    <tr>\n",
       "      <th>42</th>\n",
       "      <td>57.0</td>\n",
       "      <td>11</td>\n",
       "    </tr>\n",
       "    <tr>\n",
       "      <th>43</th>\n",
       "      <td>58.0</td>\n",
       "      <td>12</td>\n",
       "    </tr>\n",
       "    <tr>\n",
       "      <th>44</th>\n",
       "      <td>59.0</td>\n",
       "      <td>11</td>\n",
       "    </tr>\n",
       "    <tr>\n",
       "      <th>45</th>\n",
       "      <td>60.0</td>\n",
       "      <td>2</td>\n",
       "    </tr>\n",
       "    <tr>\n",
       "      <th>46</th>\n",
       "      <td>61.0</td>\n",
       "      <td>10</td>\n",
       "    </tr>\n",
       "    <tr>\n",
       "      <th>47</th>\n",
       "      <td>62.0</td>\n",
       "      <td>5</td>\n",
       "    </tr>\n",
       "    <tr>\n",
       "      <th>48</th>\n",
       "      <td>63.0</td>\n",
       "      <td>7</td>\n",
       "    </tr>\n",
       "    <tr>\n",
       "      <th>49</th>\n",
       "      <td>65.0</td>\n",
       "      <td>2</td>\n",
       "    </tr>\n",
       "    <tr>\n",
       "      <th>50</th>\n",
       "      <td>66.0</td>\n",
       "      <td>1</td>\n",
       "    </tr>\n",
       "    <tr>\n",
       "      <th>51</th>\n",
       "      <td>67.0</td>\n",
       "      <td>1</td>\n",
       "    </tr>\n",
       "    <tr>\n",
       "      <th>52</th>\n",
       "      <td>69.0</td>\n",
       "      <td>1</td>\n",
       "    </tr>\n",
       "    <tr>\n",
       "      <th>53</th>\n",
       "      <td>71.0</td>\n",
       "      <td>2</td>\n",
       "    </tr>\n",
       "    <tr>\n",
       "      <th>54</th>\n",
       "      <td>72.0</td>\n",
       "      <td>1</td>\n",
       "    </tr>\n",
       "    <tr>\n",
       "      <th>55</th>\n",
       "      <td>99.0</td>\n",
       "      <td>1</td>\n",
       "    </tr>\n",
       "  </tbody>\n",
       "</table>\n",
       "</div>"
      ],
      "text/plain": [
       "     Age  count\n",
       "0    NaN    287\n",
       "1   16.0      3\n",
       "2   17.0      6\n",
       "3   18.0     29\n",
       "4   19.0     78\n",
       "5   20.0    109\n",
       "6   21.0    203\n",
       "7   22.0    406\n",
       "8   23.0    581\n",
       "9   24.0    679\n",
       "10  25.0    738\n",
       "11  26.0    720\n",
       "12  27.0    724\n",
       "13  28.0    787\n",
       "14  29.0    697\n",
       "15  30.0    651\n",
       "16  31.0    531\n",
       "17  32.0    489\n",
       "18  33.0    483\n",
       "19  34.0    395\n",
       "20  35.0    393\n",
       "21  36.0    308\n",
       "22  37.0    280\n",
       "23  38.0    279\n",
       "24  39.0    232\n",
       "25  40.0    187\n",
       "26  41.0    136\n",
       "27  42.0    162\n",
       "28  43.0    100\n",
       "29  44.0     95\n",
       "30  45.0     85\n",
       "31  46.0     66\n",
       "32  47.0     68\n",
       "33  48.0     64\n",
       "34  49.0     66\n",
       "35  50.0     57\n",
       "36  51.0     29\n",
       "37  52.0     41\n",
       "38  53.0     32\n",
       "39  54.0     26\n",
       "40  55.0     13\n",
       "41  56.0     16\n",
       "42  57.0     11\n",
       "43  58.0     12\n",
       "44  59.0     11\n",
       "45  60.0      2\n",
       "46  61.0     10\n",
       "47  62.0      5\n",
       "48  63.0      7\n",
       "49  65.0      2\n",
       "50  66.0      1\n",
       "51  67.0      1\n",
       "52  69.0      1\n",
       "53  71.0      2\n",
       "54  72.0      1\n",
       "55  99.0      1"
      ]
     },
     "execution_count": 6,
     "metadata": {},
     "output_type": "execute_result"
    }
   ],
   "source": [
    "QUERY = \"\"\"\n",
    "SELECT Age,COUNT(*) as count\n",
    "FROM master\n",
    "group by age\n",
    "order by age\n",
    "\"\"\"\n",
    "pd.read_sql_query(QUERY,conn)"
   ]
  },
  {
   "cell_type": "markdown",
   "metadata": {},
   "source": [
    "## Demo: How to describe a table\n"
   ]
  },
  {
   "cell_type": "code",
   "execution_count": 7,
   "metadata": {},
   "outputs": [
    {
     "name": "stdout",
     "output_type": "stream",
     "text": [
      "CREATE TABLE \"master\" (\n",
      "\"index\" INTEGER,\n",
      "  \"Respondent\" INTEGER,\n",
      "  \"MainBranch\" TEXT,\n",
      "  \"Hobbyist\" TEXT,\n",
      "  \"OpenSourcer\" TEXT,\n",
      "  \"OpenSource\" TEXT,\n",
      "  \"Employment\" TEXT,\n",
      "  \"Country\" TEXT,\n",
      "  \"Student\" TEXT,\n",
      "  \"EdLevel\" TEXT,\n",
      "  \"UndergradMajor\" TEXT,\n",
      "  \"OrgSize\" TEXT,\n",
      "  \"YearsCode\" TEXT,\n",
      "  \"Age1stCode\" TEXT,\n",
      "  \"YearsCodePro\" TEXT,\n",
      "  \"CareerSat\" TEXT,\n",
      "  \"JobSat\" TEXT,\n",
      "  \"MgrIdiot\" TEXT,\n",
      "  \"MgrMoney\" TEXT,\n",
      "  \"MgrWant\" TEXT,\n",
      "  \"JobSeek\" TEXT,\n",
      "  \"LastHireDate\" TEXT,\n",
      "  \"FizzBuzz\" TEXT,\n",
      "  \"ResumeUpdate\" TEXT,\n",
      "  \"CurrencySymbol\" TEXT,\n",
      "  \"CurrencyDesc\" TEXT,\n",
      "  \"CompTotal\" REAL,\n",
      "  \"CompFreq\" TEXT,\n",
      "  \"ConvertedComp\" REAL,\n",
      "  \"WorkWeekHrs\" REAL,\n",
      "  \"WorkRemote\" TEXT,\n",
      "  \"WorkLoc\" TEXT,\n",
      "  \"ImpSyn\" TEXT,\n",
      "  \"CodeRev\" TEXT,\n",
      "  \"CodeRevHrs\" REAL,\n",
      "  \"UnitTests\" TEXT,\n",
      "  \"PurchaseHow\" TEXT,\n",
      "  \"PurchaseWhat\" TEXT,\n",
      "  \"OpSys\" TEXT,\n",
      "  \"BlockchainOrg\" TEXT,\n",
      "  \"BlockchainIs\" TEXT,\n",
      "  \"BetterLife\" TEXT,\n",
      "  \"ITperson\" TEXT,\n",
      "  \"OffOn\" TEXT,\n",
      "  \"SocialMedia\" TEXT,\n",
      "  \"Extraversion\" TEXT,\n",
      "  \"ScreenName\" TEXT,\n",
      "  \"SOVisit1st\" TEXT,\n",
      "  \"SOVisitFreq\" TEXT,\n",
      "  \"SOFindAnswer\" TEXT,\n",
      "  \"SOTimeSaved\" TEXT,\n",
      "  \"SOHowMuchTime\" TEXT,\n",
      "  \"SOAccount\" TEXT,\n",
      "  \"SOPartFreq\" TEXT,\n",
      "  \"SOJobs\" TEXT,\n",
      "  \"EntTeams\" TEXT,\n",
      "  \"SOComm\" TEXT,\n",
      "  \"WelcomeChange\" TEXT,\n",
      "  \"Age\" REAL,\n",
      "  \"Trans\" TEXT,\n",
      "  \"Dependents\" TEXT,\n",
      "  \"SurveyLength\" TEXT,\n",
      "  \"SurveyEase\" TEXT\n",
      ")\n"
     ]
    }
   ],
   "source": [
    "table_name = 'master'  # the table you wish to describe\n",
    "\n",
    "QUERY = \"\"\"\n",
    "SELECT sql FROM sqlite_master\n",
    "WHERE name= '{}'\n",
    "\"\"\".format(table_name)\n",
    "\n",
    "df = pd.read_sql_query(QUERY,conn)\n",
    "print(df.iat[0,0])"
   ]
  },
  {
   "cell_type": "markdown",
   "metadata": {},
   "source": [
    "# Hands-on Lab\n"
   ]
  },
  {
   "cell_type": "markdown",
   "metadata": {},
   "source": [
    "## Visualizing distribution of data\n"
   ]
  },
  {
   "cell_type": "code",
   "execution_count": 11,
   "metadata": {},
   "outputs": [
    {
     "data": {
      "text/html": [
       "<div>\n",
       "<style scoped>\n",
       "    .dataframe tbody tr th:only-of-type {\n",
       "        vertical-align: middle;\n",
       "    }\n",
       "\n",
       "    .dataframe tbody tr th {\n",
       "        vertical-align: top;\n",
       "    }\n",
       "\n",
       "    .dataframe thead th {\n",
       "        text-align: right;\n",
       "    }\n",
       "</style>\n",
       "<table border=\"1\" class=\"dataframe\">\n",
       "  <thead>\n",
       "    <tr style=\"text-align: right;\">\n",
       "      <th></th>\n",
       "      <th>index</th>\n",
       "      <th>Respondent</th>\n",
       "      <th>MainBranch</th>\n",
       "      <th>Hobbyist</th>\n",
       "      <th>OpenSourcer</th>\n",
       "      <th>OpenSource</th>\n",
       "      <th>Employment</th>\n",
       "      <th>Country</th>\n",
       "      <th>Student</th>\n",
       "      <th>EdLevel</th>\n",
       "      <th>...</th>\n",
       "      <th>SOPartFreq</th>\n",
       "      <th>SOJobs</th>\n",
       "      <th>EntTeams</th>\n",
       "      <th>SOComm</th>\n",
       "      <th>WelcomeChange</th>\n",
       "      <th>Age</th>\n",
       "      <th>Trans</th>\n",
       "      <th>Dependents</th>\n",
       "      <th>SurveyLength</th>\n",
       "      <th>SurveyEase</th>\n",
       "    </tr>\n",
       "  </thead>\n",
       "  <tbody>\n",
       "    <tr>\n",
       "      <th>0</th>\n",
       "      <td>0</td>\n",
       "      <td>4</td>\n",
       "      <td>I am a developer by profession</td>\n",
       "      <td>No</td>\n",
       "      <td>Never</td>\n",
       "      <td>The quality of OSS and closed source software ...</td>\n",
       "      <td>Employed full-time</td>\n",
       "      <td>United States</td>\n",
       "      <td>No</td>\n",
       "      <td>Bachelor’s degree (BA, BS, B.Eng., etc.)</td>\n",
       "      <td>...</td>\n",
       "      <td>Less than once per month or monthly</td>\n",
       "      <td>Yes</td>\n",
       "      <td>No, and I don't know what those are</td>\n",
       "      <td>No, not really</td>\n",
       "      <td>Just as welcome now as I felt last year</td>\n",
       "      <td>22.0</td>\n",
       "      <td>No</td>\n",
       "      <td>No</td>\n",
       "      <td>Appropriate in length</td>\n",
       "      <td>Easy</td>\n",
       "    </tr>\n",
       "    <tr>\n",
       "      <th>1</th>\n",
       "      <td>1</td>\n",
       "      <td>9</td>\n",
       "      <td>I am a developer by profession</td>\n",
       "      <td>Yes</td>\n",
       "      <td>Once a month or more often</td>\n",
       "      <td>The quality of OSS and closed source software ...</td>\n",
       "      <td>Employed full-time</td>\n",
       "      <td>New Zealand</td>\n",
       "      <td>No</td>\n",
       "      <td>Some college/university study without earning ...</td>\n",
       "      <td>...</td>\n",
       "      <td>Less than once per month or monthly</td>\n",
       "      <td>No, I knew that Stack Overflow had a job board...</td>\n",
       "      <td>No, and I don't know what those are</td>\n",
       "      <td>Yes, somewhat</td>\n",
       "      <td>Just as welcome now as I felt last year</td>\n",
       "      <td>23.0</td>\n",
       "      <td>No</td>\n",
       "      <td>No</td>\n",
       "      <td>Appropriate in length</td>\n",
       "      <td>Neither easy nor difficult</td>\n",
       "    </tr>\n",
       "    <tr>\n",
       "      <th>2</th>\n",
       "      <td>2</td>\n",
       "      <td>13</td>\n",
       "      <td>I am a developer by profession</td>\n",
       "      <td>Yes</td>\n",
       "      <td>Less than once a month but more than once per ...</td>\n",
       "      <td>OSS is, on average, of HIGHER quality than pro...</td>\n",
       "      <td>Employed full-time</td>\n",
       "      <td>United States</td>\n",
       "      <td>No</td>\n",
       "      <td>Master’s degree (MA, MS, M.Eng., MBA, etc.)</td>\n",
       "      <td>...</td>\n",
       "      <td>Less than once per month or monthly</td>\n",
       "      <td>Yes</td>\n",
       "      <td>No, I've heard of them, but I am not part of a...</td>\n",
       "      <td>Neutral</td>\n",
       "      <td>Somewhat more welcome now than last year</td>\n",
       "      <td>28.0</td>\n",
       "      <td>No</td>\n",
       "      <td>Yes</td>\n",
       "      <td>Appropriate in length</td>\n",
       "      <td>Easy</td>\n",
       "    </tr>\n",
       "    <tr>\n",
       "      <th>3</th>\n",
       "      <td>3</td>\n",
       "      <td>16</td>\n",
       "      <td>I am a developer by profession</td>\n",
       "      <td>Yes</td>\n",
       "      <td>Never</td>\n",
       "      <td>The quality of OSS and closed source software ...</td>\n",
       "      <td>Employed full-time</td>\n",
       "      <td>United Kingdom</td>\n",
       "      <td>No</td>\n",
       "      <td>Master’s degree (MA, MS, M.Eng., MBA, etc.)</td>\n",
       "      <td>...</td>\n",
       "      <td>Less than once per month or monthly</td>\n",
       "      <td>Yes</td>\n",
       "      <td>No, I've heard of them, but I am not part of a...</td>\n",
       "      <td>Yes, somewhat</td>\n",
       "      <td>Just as welcome now as I felt last year</td>\n",
       "      <td>26.0</td>\n",
       "      <td>No</td>\n",
       "      <td>No</td>\n",
       "      <td>Appropriate in length</td>\n",
       "      <td>Neither easy nor difficult</td>\n",
       "    </tr>\n",
       "    <tr>\n",
       "      <th>4</th>\n",
       "      <td>4</td>\n",
       "      <td>17</td>\n",
       "      <td>I am a developer by profession</td>\n",
       "      <td>Yes</td>\n",
       "      <td>Less than once a month but more than once per ...</td>\n",
       "      <td>The quality of OSS and closed source software ...</td>\n",
       "      <td>Employed full-time</td>\n",
       "      <td>Australia</td>\n",
       "      <td>No</td>\n",
       "      <td>Bachelor’s degree (BA, BS, B.Eng., etc.)</td>\n",
       "      <td>...</td>\n",
       "      <td>A few times per week</td>\n",
       "      <td>No, I didn't know that Stack Overflow had a jo...</td>\n",
       "      <td>No, I've heard of them, but I am not part of a...</td>\n",
       "      <td>Yes, somewhat</td>\n",
       "      <td>Just as welcome now as I felt last year</td>\n",
       "      <td>29.0</td>\n",
       "      <td>No</td>\n",
       "      <td>No</td>\n",
       "      <td>Appropriate in length</td>\n",
       "      <td>Easy</td>\n",
       "    </tr>\n",
       "  </tbody>\n",
       "</table>\n",
       "<p>5 rows × 63 columns</p>\n",
       "</div>"
      ],
      "text/plain": [
       "   index  Respondent                      MainBranch Hobbyist  \\\n",
       "0      0           4  I am a developer by profession       No   \n",
       "1      1           9  I am a developer by profession      Yes   \n",
       "2      2          13  I am a developer by profession      Yes   \n",
       "3      3          16  I am a developer by profession      Yes   \n",
       "4      4          17  I am a developer by profession      Yes   \n",
       "\n",
       "                                         OpenSourcer  \\\n",
       "0                                              Never   \n",
       "1                         Once a month or more often   \n",
       "2  Less than once a month but more than once per ...   \n",
       "3                                              Never   \n",
       "4  Less than once a month but more than once per ...   \n",
       "\n",
       "                                          OpenSource          Employment  \\\n",
       "0  The quality of OSS and closed source software ...  Employed full-time   \n",
       "1  The quality of OSS and closed source software ...  Employed full-time   \n",
       "2  OSS is, on average, of HIGHER quality than pro...  Employed full-time   \n",
       "3  The quality of OSS and closed source software ...  Employed full-time   \n",
       "4  The quality of OSS and closed source software ...  Employed full-time   \n",
       "\n",
       "          Country Student                                            EdLevel  \\\n",
       "0   United States      No           Bachelor’s degree (BA, BS, B.Eng., etc.)   \n",
       "1     New Zealand      No  Some college/university study without earning ...   \n",
       "2   United States      No        Master’s degree (MA, MS, M.Eng., MBA, etc.)   \n",
       "3  United Kingdom      No        Master’s degree (MA, MS, M.Eng., MBA, etc.)   \n",
       "4       Australia      No           Bachelor’s degree (BA, BS, B.Eng., etc.)   \n",
       "\n",
       "   ...                           SOPartFreq  \\\n",
       "0  ...  Less than once per month or monthly   \n",
       "1  ...  Less than once per month or monthly   \n",
       "2  ...  Less than once per month or monthly   \n",
       "3  ...  Less than once per month or monthly   \n",
       "4  ...                 A few times per week   \n",
       "\n",
       "                                              SOJobs  \\\n",
       "0                                                Yes   \n",
       "1  No, I knew that Stack Overflow had a job board...   \n",
       "2                                                Yes   \n",
       "3                                                Yes   \n",
       "4  No, I didn't know that Stack Overflow had a jo...   \n",
       "\n",
       "                                            EntTeams          SOComm  \\\n",
       "0                No, and I don't know what those are  No, not really   \n",
       "1                No, and I don't know what those are   Yes, somewhat   \n",
       "2  No, I've heard of them, but I am not part of a...         Neutral   \n",
       "3  No, I've heard of them, but I am not part of a...   Yes, somewhat   \n",
       "4  No, I've heard of them, but I am not part of a...   Yes, somewhat   \n",
       "\n",
       "                              WelcomeChange   Age Trans Dependents  \\\n",
       "0   Just as welcome now as I felt last year  22.0    No         No   \n",
       "1   Just as welcome now as I felt last year  23.0    No         No   \n",
       "2  Somewhat more welcome now than last year  28.0    No        Yes   \n",
       "3   Just as welcome now as I felt last year  26.0    No         No   \n",
       "4   Just as welcome now as I felt last year  29.0    No         No   \n",
       "\n",
       "            SurveyLength                  SurveyEase  \n",
       "0  Appropriate in length                        Easy  \n",
       "1  Appropriate in length  Neither easy nor difficult  \n",
       "2  Appropriate in length                        Easy  \n",
       "3  Appropriate in length  Neither easy nor difficult  \n",
       "4  Appropriate in length                        Easy  \n",
       "\n",
       "[5 rows x 63 columns]"
      ]
     },
     "execution_count": 11,
     "metadata": {},
     "output_type": "execute_result"
    }
   ],
   "source": [
    "# your code goes here\n",
    "QUERY = \"\"\"\n",
    "SELECT *\n",
    "FROM master\n",
    "\"\"\"\n",
    "\n",
    "# the read_sql_query runs the sql query and returns the data as a dataframe\n",
    "df = pd.read_sql_query(QUERY,conn)\n",
    "df.head()"
   ]
  },
  {
   "cell_type": "markdown",
   "metadata": {},
   "source": [
    "### Histograms\n"
   ]
  },
  {
   "cell_type": "markdown",
   "metadata": {},
   "source": [
    "Plot a histogram of `ConvertedComp.`\n"
   ]
  },
  {
   "cell_type": "code",
   "execution_count": 15,
   "metadata": {},
   "outputs": [],
   "source": [
    "%matplotlib inline\n",
    "import matplotlib as mpl\n",
    "import matplotlib.pyplot as plt "
   ]
  },
  {
   "cell_type": "code",
   "execution_count": 18,
   "metadata": {},
   "outputs": [
    {
     "data": {
      "image/png": "[encoded data removed]",
      "text/plain": [
       "<Figure size 640x480 with 1 Axes>"
      ]
     },
     "metadata": {},
     "output_type": "display_data"
    }
   ],
   "source": [
    "# your code goes here\n",
    "df['ConvertedComp'].plot(kind='hist')\n",
    "plt.title('Histogram of Salary')\n",
    "plt.ylabel('Salary')\n",
    "plt.xlabel('Distribution')\n",
    "plt.show()"
   ]
  },
  {
   "cell_type": "markdown",
   "metadata": {},
   "source": [
    "### Box Plots\n"
   ]
  },
  {
   "cell_type": "markdown",
   "metadata": {},
   "source": [
    "Plot a box plot of `Age.`\n"
   ]
  },
  {
   "cell_type": "code",
   "execution_count": 19,
   "metadata": {},
   "outputs": [
    {
     "data": {
      "text/plain": [
       "<AxesSubplot:ylabel='Age'>"
      ]
     },
     "execution_count": 19,
     "metadata": {},
     "output_type": "execute_result"
    },
    {
     "data": {
      "image/png": "[encoded data removed]",
      "text/plain": [
       "<Figure size 640x480 with 1 Axes>"
      ]
     },
     "metadata": {},
     "output_type": "display_data"
    }
   ],
   "source": [
    "# your code goes here\n",
    "import seaborn as sns\n",
    "sns.boxplot(y=\"Age\", data=df)"
   ]
  },
  {
   "cell_type": "code",
   "execution_count": 20,
   "metadata": {},
   "outputs": [
    {
     "data": {
      "text/plain": [
       "<AxesSubplot:>"
      ]
     },
     "execution_count": 20,
     "metadata": {},
     "output_type": "execute_result"
    },
    {
     "data": {
      "image/png": "[encoded data removed]",
      "text/plain": [
       "<Figure size 300x800 with 1 Axes>"
      ]
     },
     "metadata": {},
     "output_type": "display_data"
    }
   ],
   "source": [
    "df['Age'].plot(kind='box', figsize=(3,8))"
   ]
  },
  {
   "cell_type": "markdown",
   "metadata": {},
   "source": [
    "## Visualizing relationships in data\n"
   ]
  },
  {
   "cell_type": "markdown",
   "metadata": {},
   "source": [
    "### Scatter Plots\n"
   ]
  },
  {
   "cell_type": "markdown",
   "metadata": {},
   "source": [
    "Create a scatter plot of `Age` and `WorkWeekHrs.`\n"
   ]
  },
  {
   "cell_type": "code",
   "execution_count": 21,
   "metadata": {},
   "outputs": [
    {
     "data": {
      "image/png": "[encoded data removed]",
      "text/plain": [
       "<Figure size 640x480 with 1 Axes>"
      ]
     },
     "metadata": {},
     "output_type": "display_data"
    }
   ],
   "source": [
    "# your code goes here\n",
    "df.plot(kind='scatter', x='Age', y='WorkWeekHrs')\n",
    "plt.title('Hours Worked per Week by Age')\n",
    "plt.xlabel('Age')\n",
    "plt.ylabel('Hours Worked')\n",
    "plt.show()"
   ]
  },
  {
   "cell_type": "markdown",
   "metadata": {},
   "source": [
    "### Bubble Plots\n"
   ]
  },
  {
   "cell_type": "markdown",
   "metadata": {},
   "source": [
    "Create a bubble plot of `WorkWeekHrs` and `CodeRevHrs`, use `Age` column as bubble size.\n"
   ]
  },
  {
   "cell_type": "code",
   "execution_count": 22,
   "metadata": {},
   "outputs": [
    {
     "data": {
      "text/plain": [
       "Text(0, 0.5, 'CodeRevHrs')"
      ]
     },
     "execution_count": 22,
     "metadata": {},
     "output_type": "execute_result"
    },
    {
     "data": {
      "image/png": "[encoded data removed]",
      "text/plain": [
       "<Figure size 640x480 with 1 Axes>"
      ]
     },
     "metadata": {},
     "output_type": "display_data"
    }
   ],
   "source": [
    "# your code goes here\n",
    "sns.scatterplot(data=df, x='WorkWeekHrs', y='CodeRevHrs', size='Age', hue='Age', alpha=0.7, sizes=(10, 500)) \n",
    "\n",
    "plt.title('WorkWeekHrs and CodeRevHrs By Age', size=14) \n",
    "plt.xlabel('WorkWeekHrs', size=10) \n",
    "plt.ylabel('CodeRevHrs', size=10)\n"
   ]
  },
  {
   "cell_type": "markdown",
   "metadata": {},
   "source": [
    "## Visualizing composition of data\n"
   ]
  },
  {
   "cell_type": "markdown",
   "metadata": {},
   "source": [
    "### Pie Charts\n"
   ]
  },
  {
   "cell_type": "markdown",
   "metadata": {},
   "source": [
    "Create a pie chart of the top 5 databases that respondents wish to learn next year. Label the pie chart with database names. Display percentages of each database on the pie chart.\n"
   ]
  },
  {
   "cell_type": "code",
   "execution_count": 58,
   "metadata": {},
   "outputs": [],
   "source": [
    "QUERY = \"\"\"\n",
    "SELECT DatabaseDesireNextYear, COUNT(*) as count \n",
    "from DatabaseDesireNextYear \n",
    "group by DatabaseDesireNextYear \n",
    "order by count(DatabaseDesireNextYear) DESC LIMIT 5 \n",
    "\"\"\"\n",
    "\n",
    "# the read_sql_query runs the sql query and returns the data as a dataframe\n",
    "df_df1=pd.read_sql_query(QUERY,conn)  \n",
    "df_df1.set_index('DatabaseDesireNextYear', inplace=True) "
   ]
  },
  {
   "cell_type": "code",
   "execution_count": 59,
   "metadata": {},
   "outputs": [
    {
     "data": {
      "text/html": [
       "<div>\n",
       "<style scoped>\n",
       "    .dataframe tbody tr th:only-of-type {\n",
       "        vertical-align: middle;\n",
       "    }\n",
       "\n",
       "    .dataframe tbody tr th {\n",
       "        vertical-align: top;\n",
       "    }\n",
       "\n",
       "    .dataframe thead th {\n",
       "        text-align: right;\n",
       "    }\n",
       "</style>\n",
       "<table border=\"1\" class=\"dataframe\">\n",
       "  <thead>\n",
       "    <tr style=\"text-align: right;\">\n",
       "      <th></th>\n",
       "      <th>count</th>\n",
       "    </tr>\n",
       "    <tr>\n",
       "      <th>DatabaseDesireNextYear</th>\n",
       "      <th></th>\n",
       "    </tr>\n",
       "  </thead>\n",
       "  <tbody>\n",
       "    <tr>\n",
       "      <th>PostgreSQL</th>\n",
       "      <td>4328</td>\n",
       "    </tr>\n",
       "    <tr>\n",
       "      <th>MongoDB</th>\n",
       "      <td>3649</td>\n",
       "    </tr>\n",
       "    <tr>\n",
       "      <th>Redis</th>\n",
       "      <td>3331</td>\n",
       "    </tr>\n",
       "    <tr>\n",
       "      <th>MySQL</th>\n",
       "      <td>3281</td>\n",
       "    </tr>\n",
       "    <tr>\n",
       "      <th>Elasticsearch</th>\n",
       "      <td>2856</td>\n",
       "    </tr>\n",
       "  </tbody>\n",
       "</table>\n",
       "</div>"
      ],
      "text/plain": [
       "                        count\n",
       "DatabaseDesireNextYear       \n",
       "PostgreSQL               4328\n",
       "MongoDB                  3649\n",
       "Redis                    3331\n",
       "MySQL                    3281\n",
       "Elasticsearch            2856"
      ]
     },
     "execution_count": 59,
     "metadata": {},
     "output_type": "execute_result"
    }
   ],
   "source": [
    "df_df1"
   ]
  },
  {
   "cell_type": "code",
   "execution_count": 64,
   "metadata": {},
   "outputs": [
    {
     "data": {
      "image/png": "[encoded data removed]",
      "text/plain": [
       "<Figure size 1500x800 with 1 Axes>"
      ]
     },
     "metadata": {},
     "output_type": "display_data"
    }
   ],
   "source": [
    "# your code goes here\n",
    "#df_df1 = df_db.groupby('DatabaseDesireNextYear', axis= 0).count()\n",
    "df_df1['count'].plot(kind='pie',\n",
    "                            figsize=(15, 8),\n",
    "                            autopct='%1.1f%%', # add in percentages\n",
    "                            startangle=90,     # start angle 90° (Africa)\n",
    "                            shadow=False,\n",
    "                          labels=None,\n",
    "                          pctdistance=1.1\n",
    "                            )\n",
    "\n",
    "plt.title('Database they want to work on next year')\n",
    "plt.axis('equal')\n",
    "plt.legend(labels=df_df1.index, loc='upper left') \n",
    "\n",
    "plt.show()"
   ]
  },
  {
   "cell_type": "markdown",
   "metadata": {},
   "source": [
    "### Stacked Charts\n"
   ]
  },
  {
   "cell_type": "markdown",
   "metadata": {},
   "source": [
    "Create a stacked chart of median `WorkWeekHrs` and `CodeRevHrs` for the age group 30 to 35.\n"
   ]
  },
  {
   "cell_type": "code",
   "execution_count": 43,
   "metadata": {},
   "outputs": [
    {
     "data": {
      "text/html": [
       "<div>\n",
       "<style scoped>\n",
       "    .dataframe tbody tr th:only-of-type {\n",
       "        vertical-align: middle;\n",
       "    }\n",
       "\n",
       "    .dataframe tbody tr th {\n",
       "        vertical-align: top;\n",
       "    }\n",
       "\n",
       "    .dataframe thead th {\n",
       "        text-align: right;\n",
       "    }\n",
       "</style>\n",
       "<table border=\"1\" class=\"dataframe\">\n",
       "  <thead>\n",
       "    <tr style=\"text-align: right;\">\n",
       "      <th></th>\n",
       "      <th>WorkWeekHrs</th>\n",
       "      <th>CodeRevHrs</th>\n",
       "    </tr>\n",
       "    <tr>\n",
       "      <th>Age</th>\n",
       "      <th></th>\n",
       "      <th></th>\n",
       "    </tr>\n",
       "  </thead>\n",
       "  <tbody>\n",
       "    <tr>\n",
       "      <th>30.0</th>\n",
       "      <td>40.0</td>\n",
       "      <td>4.0</td>\n",
       "    </tr>\n",
       "    <tr>\n",
       "      <th>31.0</th>\n",
       "      <td>40.0</td>\n",
       "      <td>4.0</td>\n",
       "    </tr>\n",
       "    <tr>\n",
       "      <th>32.0</th>\n",
       "      <td>40.0</td>\n",
       "      <td>4.0</td>\n",
       "    </tr>\n",
       "    <tr>\n",
       "      <th>33.0</th>\n",
       "      <td>40.0</td>\n",
       "      <td>4.0</td>\n",
       "    </tr>\n",
       "    <tr>\n",
       "      <th>34.0</th>\n",
       "      <td>40.0</td>\n",
       "      <td>4.0</td>\n",
       "    </tr>\n",
       "    <tr>\n",
       "      <th>35.0</th>\n",
       "      <td>40.0</td>\n",
       "      <td>4.0</td>\n",
       "    </tr>\n",
       "  </tbody>\n",
       "</table>\n",
       "</div>"
      ],
      "text/plain": [
       "      WorkWeekHrs  CodeRevHrs\n",
       "Age                          \n",
       "30.0         40.0         4.0\n",
       "31.0         40.0         4.0\n",
       "32.0         40.0         4.0\n",
       "33.0         40.0         4.0\n",
       "34.0         40.0         4.0\n",
       "35.0         40.0         4.0"
      ]
     },
     "execution_count": 43,
     "metadata": {},
     "output_type": "execute_result"
    }
   ],
   "source": [
    "dfSC"
   ]
  },
  {
   "cell_type": "code",
   "execution_count": 42,
   "metadata": {},
   "outputs": [
    {
     "data": {
      "image/png": "[encoded data removed]",
      "text/plain": [
       "<Figure size 1000x600 with 1 Axes>"
      ]
     },
     "metadata": {},
     "output_type": "display_data"
    }
   ],
   "source": [
    "# your code goes here\n",
    "\n",
    "QUERY = \"\"\"\n",
    "SELECT WorkWeekHrs, CodeRevHrs, Age FROM master\n",
    "WHERE Age BETWEEN 30 AND 35\n",
    "\"\"\"\n",
    "df3 = pd.read_sql_query(QUERY,conn)\n",
    "dfSC = df3.groupby('Age').median()\n",
    "\n",
    "dfSC.plot(kind='bar', figsize=(10, 6), stacked=True)\n",
    "\n",
    "plt.title('Stacked Bar Chart of Median WorkWeekHrs and CodeRevHrs for Those Age 30 to 35')\n",
    "plt.show()"
   ]
  },
  {
   "cell_type": "markdown",
   "metadata": {},
   "source": [
    "## Visualizing comparison of data\n"
   ]
  },
  {
   "cell_type": "markdown",
   "metadata": {},
   "source": [
    "### Line Chart\n"
   ]
  },
  {
   "cell_type": "markdown",
   "metadata": {},
   "source": [
    "Plot the median `ConvertedComp` for all ages from 45 to 60.\n"
   ]
  },
  {
   "cell_type": "code",
   "execution_count": 47,
   "metadata": {},
   "outputs": [
    {
     "data": {
      "image/png": "[encoded data removed]",
      "text/plain": [
       "<Figure size 1800x600 with 1 Axes>"
      ]
     },
     "metadata": {},
     "output_type": "display_data"
    }
   ],
   "source": [
    "# your code goes here\n",
    "QUERY = \"\"\"\n",
    "SELECT ConvertedComp, Age FROM master\n",
    "WHERE Age BETWEEN 45 AND 60\n",
    "\"\"\"\n",
    "df7 = pd.read_sql_query(QUERY,conn)\n",
    "dfLC = df7.groupby('Age').median()\n",
    "dfLC.plot(kind='line', figsize=(18, 6))\n",
    "plt.title('Median ConvertedComp for Those Age 45 to 60')\n",
    "plt.ylabel('ConvertedComp')\n",
    "plt.show()\n"
   ]
  },
  {
   "cell_type": "code",
   "execution_count": 88,
   "metadata": {},
   "outputs": [
    {
     "data": {
      "image/png": "[encoded data removed]",
      "text/plain": [
       "<Figure size 1800x600 with 1 Axes>"
      ]
     },
     "metadata": {},
     "output_type": "display_data"
    }
   ],
   "source": [
    "QUERY = \"\"\"\n",
    "SELECT ConvertedComp, Age FROM master\n",
    "WHERE Age BETWEEN 25 AND 30\n",
    "\"\"\"\n",
    "df7 = pd.read_sql_query(QUERY,conn)\n",
    "dfLC2 = df7.groupby('Age').median()\n",
    "dfLC2.plot(kind='line', figsize=(18, 6))\n",
    "plt.title('Median ConvertedComp for Those Age 25 to 30')\n",
    "plt.ylabel('ConvertedComp')\n",
    "plt.show()"
   ]
  },
  {
   "cell_type": "markdown",
   "metadata": {},
   "source": [
    "### Bar Chart\n"
   ]
  },
  {
   "cell_type": "markdown",
   "metadata": {},
   "source": [
    "Create a horizontal bar chart using column `MainBranch.`\n"
   ]
  },
  {
   "cell_type": "code",
   "execution_count": 52,
   "metadata": {},
   "outputs": [
    {
     "data": {
      "image/png": "[encoded data removed]",
      "text/plain": [
       "<Figure size 640x480 with 1 Axes>"
      ]
     },
     "metadata": {},
     "output_type": "display_data"
    }
   ],
   "source": [
    "# your code goes here\n",
    "dfBC = pd.DataFrame(df['MainBranch'].value_counts())\n",
    "dfBC.plot(kind='barh')\n",
    "plt.title('Horizontal Bar Chart for Main Branch')\n",
    "plt.ylabel('Description')\n",
    "plt.xlabel('Count')\n",
    "plt.show()\n"
   ]
  },
  {
   "cell_type": "code",
   "execution_count": 67,
   "metadata": {},
   "outputs": [
    {
     "data": {
      "text/html": [
       "<div>\n",
       "<style scoped>\n",
       "    .dataframe tbody tr th:only-of-type {\n",
       "        vertical-align: middle;\n",
       "    }\n",
       "\n",
       "    .dataframe tbody tr th {\n",
       "        vertical-align: top;\n",
       "    }\n",
       "\n",
       "    .dataframe thead th {\n",
       "        text-align: right;\n",
       "    }\n",
       "</style>\n",
       "<table border=\"1\" class=\"dataframe\">\n",
       "  <thead>\n",
       "    <tr style=\"text-align: right;\">\n",
       "      <th></th>\n",
       "      <th>count</th>\n",
       "    </tr>\n",
       "    <tr>\n",
       "      <th>LanguageDesireNextYear</th>\n",
       "      <th></th>\n",
       "    </tr>\n",
       "  </thead>\n",
       "  <tbody>\n",
       "    <tr>\n",
       "      <th>JavaScript</th>\n",
       "      <td>6630</td>\n",
       "    </tr>\n",
       "    <tr>\n",
       "      <th>HTML/CSS</th>\n",
       "      <td>5328</td>\n",
       "    </tr>\n",
       "    <tr>\n",
       "      <th>Python</th>\n",
       "      <td>5239</td>\n",
       "    </tr>\n",
       "    <tr>\n",
       "      <th>SQL</th>\n",
       "      <td>5012</td>\n",
       "    </tr>\n",
       "    <tr>\n",
       "      <th>TypeScript</th>\n",
       "      <td>4088</td>\n",
       "    </tr>\n",
       "  </tbody>\n",
       "</table>\n",
       "</div>"
      ],
      "text/plain": [
       "                        count\n",
       "LanguageDesireNextYear       \n",
       "JavaScript               6630\n",
       "HTML/CSS                 5328\n",
       "Python                   5239\n",
       "SQL                      5012\n",
       "TypeScript               4088"
      ]
     },
     "execution_count": 67,
     "metadata": {},
     "output_type": "execute_result"
    }
   ],
   "source": [
    "QUERY = \"\"\"\n",
    "SELECT LanguageDesireNextYear, COUNT(*) as count \n",
    "from LanguageDesireNextYear \n",
    "group by LanguageDesireNextYear \n",
    "order by count(LanguageDesireNextYear) DESC LIMIT 5 \n",
    "\"\"\"\n",
    "\n",
    "# the read_sql_query runs the sql query and returns the data as a dataframe\n",
    "df_L=pd.read_sql_query(QUERY,conn)  \n",
    "df_L.set_index('LanguageDesireNextYear', inplace=True) \n",
    "df_L"
   ]
  },
  {
   "cell_type": "markdown",
   "metadata": {},
   "source": [
    "Close the database connection.\n"
   ]
  },
  {
   "cell_type": "code",
   "execution_count": 74,
   "metadata": {},
   "outputs": [
    {
     "data": {
      "text/html": [
       "<div>\n",
       "<style scoped>\n",
       "    .dataframe tbody tr th:only-of-type {\n",
       "        vertical-align: middle;\n",
       "    }\n",
       "\n",
       "    .dataframe tbody tr th {\n",
       "        vertical-align: top;\n",
       "    }\n",
       "\n",
       "    .dataframe thead th {\n",
       "        text-align: right;\n",
       "    }\n",
       "</style>\n",
       "<table border=\"1\" class=\"dataframe\">\n",
       "  <thead>\n",
       "    <tr style=\"text-align: right;\">\n",
       "      <th></th>\n",
       "      <th>Respondent</th>\n",
       "      <th>DatabaseWorkedWith</th>\n",
       "    </tr>\n",
       "  </thead>\n",
       "  <tbody>\n",
       "    <tr>\n",
       "      <th>0</th>\n",
       "      <td>4</td>\n",
       "      <td>MySQL</td>\n",
       "    </tr>\n",
       "    <tr>\n",
       "      <th>1</th>\n",
       "      <td>4</td>\n",
       "      <td>SQLite</td>\n",
       "    </tr>\n",
       "    <tr>\n",
       "      <th>2</th>\n",
       "      <td>9</td>\n",
       "      <td>DynamoDB</td>\n",
       "    </tr>\n",
       "    <tr>\n",
       "      <th>3</th>\n",
       "      <td>9</td>\n",
       "      <td>PostgreSQL</td>\n",
       "    </tr>\n",
       "    <tr>\n",
       "      <th>4</th>\n",
       "      <td>9</td>\n",
       "      <td>SQLite</td>\n",
       "    </tr>\n",
       "    <tr>\n",
       "      <th>...</th>\n",
       "      <td>...</td>\n",
       "      <td>...</td>\n",
       "    </tr>\n",
       "    <tr>\n",
       "      <th>31370</th>\n",
       "      <td>25137</td>\n",
       "      <td>MySQL</td>\n",
       "    </tr>\n",
       "    <tr>\n",
       "      <th>31371</th>\n",
       "      <td>25138</td>\n",
       "      <td>PostgreSQL</td>\n",
       "    </tr>\n",
       "    <tr>\n",
       "      <th>31372</th>\n",
       "      <td>25141</td>\n",
       "      <td>Microsoft SQL Server</td>\n",
       "    </tr>\n",
       "    <tr>\n",
       "      <th>31373</th>\n",
       "      <td>25141</td>\n",
       "      <td>Redis</td>\n",
       "    </tr>\n",
       "    <tr>\n",
       "      <th>31374</th>\n",
       "      <td>25142</td>\n",
       "      <td>PostgreSQL</td>\n",
       "    </tr>\n",
       "  </tbody>\n",
       "</table>\n",
       "<p>31375 rows × 2 columns</p>\n",
       "</div>"
      ],
      "text/plain": [
       "       Respondent    DatabaseWorkedWith\n",
       "0               4                 MySQL\n",
       "1               4                SQLite\n",
       "2               9              DynamoDB\n",
       "3               9            PostgreSQL\n",
       "4               9                SQLite\n",
       "...           ...                   ...\n",
       "31370       25137                 MySQL\n",
       "31371       25138            PostgreSQL\n",
       "31372       25141  Microsoft SQL Server\n",
       "31373       25141                 Redis\n",
       "31374       25142            PostgreSQL\n",
       "\n",
       "[31375 rows x 2 columns]"
      ]
     },
     "execution_count": 74,
     "metadata": {},
     "output_type": "execute_result"
    }
   ],
   "source": [
    "QUERY = \"\"\"\n",
    "SELECT *\n",
    "from DatabaseWorkedWith \n",
    "\"\"\"\n",
    "\n",
    "# the read_sql_query runs the sql query and returns the data as a dataframe\n",
    "df_ms=pd.read_sql_query(QUERY,conn)  \n",
    "#df_ms.set_index('DatabaseWorkedWith', inplace=True) \n",
    "df_ms"
   ]
  },
  {
   "cell_type": "code",
   "execution_count": 75,
   "metadata": {},
   "outputs": [
    {
     "data": {
      "text/html": [
       "<div>\n",
       "<style scoped>\n",
       "    .dataframe tbody tr th:only-of-type {\n",
       "        vertical-align: middle;\n",
       "    }\n",
       "\n",
       "    .dataframe tbody tr th {\n",
       "        vertical-align: top;\n",
       "    }\n",
       "\n",
       "    .dataframe thead th {\n",
       "        text-align: right;\n",
       "    }\n",
       "</style>\n",
       "<table border=\"1\" class=\"dataframe\">\n",
       "  <thead>\n",
       "    <tr style=\"text-align: right;\">\n",
       "      <th></th>\n",
       "      <th>count</th>\n",
       "    </tr>\n",
       "    <tr>\n",
       "      <th>LanguageWorkedWith</th>\n",
       "      <th></th>\n",
       "    </tr>\n",
       "  </thead>\n",
       "  <tbody>\n",
       "    <tr>\n",
       "      <th>Erlang</th>\n",
       "      <td>98</td>\n",
       "    </tr>\n",
       "    <tr>\n",
       "      <th>WebAssembly</th>\n",
       "      <td>133</td>\n",
       "    </tr>\n",
       "    <tr>\n",
       "      <th>F#</th>\n",
       "      <td>158</td>\n",
       "    </tr>\n",
       "    <tr>\n",
       "      <th>Clojure</th>\n",
       "      <td>164</td>\n",
       "    </tr>\n",
       "    <tr>\n",
       "      <th>Elixir</th>\n",
       "      <td>187</td>\n",
       "    </tr>\n",
       "    <tr>\n",
       "      <th>Dart</th>\n",
       "      <td>237</td>\n",
       "    </tr>\n",
       "    <tr>\n",
       "      <th>Rust</th>\n",
       "      <td>324</td>\n",
       "    </tr>\n",
       "    <tr>\n",
       "      <th>Assembly</th>\n",
       "      <td>437</td>\n",
       "    </tr>\n",
       "    <tr>\n",
       "      <th>Scala</th>\n",
       "      <td>492</td>\n",
       "    </tr>\n",
       "    <tr>\n",
       "      <th>Objective-C</th>\n",
       "      <td>518</td>\n",
       "    </tr>\n",
       "    <tr>\n",
       "      <th>R</th>\n",
       "      <td>585</td>\n",
       "    </tr>\n",
       "    <tr>\n",
       "      <th>VBA</th>\n",
       "      <td>628</td>\n",
       "    </tr>\n",
       "    <tr>\n",
       "      <th>Swift</th>\n",
       "      <td>707</td>\n",
       "    </tr>\n",
       "    <tr>\n",
       "      <th>Kotlin</th>\n",
       "      <td>751</td>\n",
       "    </tr>\n",
       "    <tr>\n",
       "      <th>Other(s):</th>\n",
       "      <td>840</td>\n",
       "    </tr>\n",
       "    <tr>\n",
       "      <th>Go</th>\n",
       "      <td>1114</td>\n",
       "    </tr>\n",
       "    <tr>\n",
       "      <th>Ruby</th>\n",
       "      <td>1149</td>\n",
       "    </tr>\n",
       "    <tr>\n",
       "      <th>C</th>\n",
       "      <td>1578</td>\n",
       "    </tr>\n",
       "    <tr>\n",
       "      <th>C++</th>\n",
       "      <td>1946</td>\n",
       "    </tr>\n",
       "    <tr>\n",
       "      <th>PHP</th>\n",
       "      <td>2913</td>\n",
       "    </tr>\n",
       "    <tr>\n",
       "      <th>TypeScript</th>\n",
       "      <td>3232</td>\n",
       "    </tr>\n",
       "    <tr>\n",
       "      <th>C#</th>\n",
       "      <td>4288</td>\n",
       "    </tr>\n",
       "    <tr>\n",
       "      <th>Java</th>\n",
       "      <td>4506</td>\n",
       "    </tr>\n",
       "    <tr>\n",
       "      <th>Python</th>\n",
       "      <td>4542</td>\n",
       "    </tr>\n",
       "    <tr>\n",
       "      <th>Bash/Shell/PowerShell</th>\n",
       "      <td>4642</td>\n",
       "    </tr>\n",
       "    <tr>\n",
       "      <th>SQL</th>\n",
       "      <td>7106</td>\n",
       "    </tr>\n",
       "    <tr>\n",
       "      <th>HTML/CSS</th>\n",
       "      <td>7830</td>\n",
       "    </tr>\n",
       "    <tr>\n",
       "      <th>JavaScript</th>\n",
       "      <td>8687</td>\n",
       "    </tr>\n",
       "  </tbody>\n",
       "</table>\n",
       "</div>"
      ],
      "text/plain": [
       "                       count\n",
       "LanguageWorkedWith          \n",
       "Erlang                    98\n",
       "WebAssembly              133\n",
       "F#                       158\n",
       "Clojure                  164\n",
       "Elixir                   187\n",
       "Dart                     237\n",
       "Rust                     324\n",
       "Assembly                 437\n",
       "Scala                    492\n",
       "Objective-C              518\n",
       "R                        585\n",
       "VBA                      628\n",
       "Swift                    707\n",
       "Kotlin                   751\n",
       "Other(s):                840\n",
       "Go                      1114\n",
       "Ruby                    1149\n",
       "C                       1578\n",
       "C++                     1946\n",
       "PHP                     2913\n",
       "TypeScript              3232\n",
       "C#                      4288\n",
       "Java                    4506\n",
       "Python                  4542\n",
       "Bash/Shell/PowerShell   4642\n",
       "SQL                     7106\n",
       "HTML/CSS                7830\n",
       "JavaScript              8687"
      ]
     },
     "execution_count": 75,
     "metadata": {},
     "output_type": "execute_result"
    }
   ],
   "source": [
    "QUERY = \"\"\"\n",
    "SELECT LanguageWorkedWith, COUNT(*) as count \n",
    "from LanguageWorkedWith \n",
    "group by LanguageWorkedWith\n",
    "order by count(LanguageWorkedWith) \n",
    "\"\"\"\n",
    "\n",
    "# the read_sql_query runs the sql query and returns the data as a dataframe\n",
    "df_Ln=pd.read_sql_query(QUERY,conn)  \n",
    "df_Ln.set_index('LanguageWorkedWith', inplace=True) \n",
    "df_Ln"
   ]
  },
  {
   "cell_type": "code",
   "execution_count": 81,
   "metadata": {},
   "outputs": [
    {
     "data": {
      "text/html": [
       "<div>\n",
       "<style scoped>\n",
       "    .dataframe tbody tr th:only-of-type {\n",
       "        vertical-align: middle;\n",
       "    }\n",
       "\n",
       "    .dataframe tbody tr th {\n",
       "        vertical-align: top;\n",
       "    }\n",
       "\n",
       "    .dataframe thead th {\n",
       "        text-align: right;\n",
       "    }\n",
       "</style>\n",
       "<table border=\"1\" class=\"dataframe\">\n",
       "  <thead>\n",
       "    <tr style=\"text-align: right;\">\n",
       "      <th></th>\n",
       "      <th>count</th>\n",
       "    </tr>\n",
       "    <tr>\n",
       "      <th>DatabaseWorkedWith</th>\n",
       "      <th></th>\n",
       "    </tr>\n",
       "  </thead>\n",
       "  <tbody>\n",
       "    <tr>\n",
       "      <th>Couchbase</th>\n",
       "      <td>250</td>\n",
       "    </tr>\n",
       "    <tr>\n",
       "      <th>Cassandra</th>\n",
       "      <td>397</td>\n",
       "    </tr>\n",
       "    <tr>\n",
       "      <th>Other(s):</th>\n",
       "      <td>728</td>\n",
       "    </tr>\n",
       "    <tr>\n",
       "      <th>DynamoDB</th>\n",
       "      <td>831</td>\n",
       "    </tr>\n",
       "    <tr>\n",
       "      <th>Firebase</th>\n",
       "      <td>1314</td>\n",
       "    </tr>\n",
       "    <tr>\n",
       "      <th>MariaDB</th>\n",
       "      <td>1709</td>\n",
       "    </tr>\n",
       "    <tr>\n",
       "      <th>Oracle</th>\n",
       "      <td>1744</td>\n",
       "    </tr>\n",
       "    <tr>\n",
       "      <th>Elasticsearch</th>\n",
       "      <td>1954</td>\n",
       "    </tr>\n",
       "    <tr>\n",
       "      <th>Redis</th>\n",
       "      <td>2508</td>\n",
       "    </tr>\n",
       "    <tr>\n",
       "      <th>MongoDB</th>\n",
       "      <td>3016</td>\n",
       "    </tr>\n",
       "    <tr>\n",
       "      <th>SQLite</th>\n",
       "      <td>3248</td>\n",
       "    </tr>\n",
       "    <tr>\n",
       "      <th>PostgreSQL</th>\n",
       "      <td>4097</td>\n",
       "    </tr>\n",
       "    <tr>\n",
       "      <th>Microsoft SQL Server</th>\n",
       "      <td>4110</td>\n",
       "    </tr>\n",
       "    <tr>\n",
       "      <th>MySQL</th>\n",
       "      <td>5469</td>\n",
       "    </tr>\n",
       "  </tbody>\n",
       "</table>\n",
       "</div>"
      ],
      "text/plain": [
       "                      count\n",
       "DatabaseWorkedWith         \n",
       "Couchbase               250\n",
       "Cassandra               397\n",
       "Other(s):               728\n",
       "DynamoDB                831\n",
       "Firebase               1314\n",
       "MariaDB                1709\n",
       "Oracle                 1744\n",
       "Elasticsearch          1954\n",
       "Redis                  2508\n",
       "MongoDB                3016\n",
       "SQLite                 3248\n",
       "PostgreSQL             4097\n",
       "Microsoft SQL Server   4110\n",
       "MySQL                  5469"
      ]
     },
     "execution_count": 81,
     "metadata": {},
     "output_type": "execute_result"
    }
   ],
   "source": [
    "QUERY = \"\"\"\n",
    "SELECT DatabaseWorkedWith, COUNT(*) as count \n",
    "from DatabaseWorkedWith \n",
    "group by DatabaseWorkedWith\n",
    "order by count(DatabaseWorkedWith) \n",
    "\"\"\"\n",
    "\n",
    "# the read_sql_query runs the sql query and returns the data as a dataframe\n",
    "df_dfdn=pd.read_sql_query(QUERY,conn)  \n",
    "df_dfdn.set_index('DatabaseWorkedWith', inplace=True) \n",
    "df_dfdn"
   ]
  },
  {
   "cell_type": "code",
   "execution_count": 86,
   "metadata": {},
   "outputs": [
    {
     "data": {
      "text/html": [
       "<div>\n",
       "<style scoped>\n",
       "    .dataframe tbody tr th:only-of-type {\n",
       "        vertical-align: middle;\n",
       "    }\n",
       "\n",
       "    .dataframe tbody tr th {\n",
       "        vertical-align: top;\n",
       "    }\n",
       "\n",
       "    .dataframe thead th {\n",
       "        text-align: right;\n",
       "    }\n",
       "</style>\n",
       "<table border=\"1\" class=\"dataframe\">\n",
       "  <thead>\n",
       "    <tr style=\"text-align: right;\">\n",
       "      <th></th>\n",
       "      <th>Respondent</th>\n",
       "    </tr>\n",
       "    <tr>\n",
       "      <th>DevType</th>\n",
       "      <th></th>\n",
       "    </tr>\n",
       "  </thead>\n",
       "  <tbody>\n",
       "    <tr>\n",
       "      <th>Academic researcher</th>\n",
       "      <td>556</td>\n",
       "    </tr>\n",
       "    <tr>\n",
       "      <th>Data or business analyst</th>\n",
       "      <td>802</td>\n",
       "    </tr>\n",
       "    <tr>\n",
       "      <th>Data scientist or machine learning specialist</th>\n",
       "      <td>803</td>\n",
       "    </tr>\n",
       "    <tr>\n",
       "      <th>Database administrator</th>\n",
       "      <td>1413</td>\n",
       "    </tr>\n",
       "    <tr>\n",
       "      <th>Designer</th>\n",
       "      <td>988</td>\n",
       "    </tr>\n",
       "    <tr>\n",
       "      <th>DevOps specialist</th>\n",
       "      <td>1639</td>\n",
       "    </tr>\n",
       "    <tr>\n",
       "      <th>Developer, QA or test</th>\n",
       "      <td>911</td>\n",
       "    </tr>\n",
       "    <tr>\n",
       "      <th>Developer, back-end</th>\n",
       "      <td>6290</td>\n",
       "    </tr>\n",
       "    <tr>\n",
       "      <th>Developer, desktop or enterprise applications</th>\n",
       "      <td>2575</td>\n",
       "    </tr>\n",
       "    <tr>\n",
       "      <th>Developer, embedded applications or devices</th>\n",
       "      <td>854</td>\n",
       "    </tr>\n",
       "    <tr>\n",
       "      <th>Developer, front-end</th>\n",
       "      <td>3920</td>\n",
       "    </tr>\n",
       "    <tr>\n",
       "      <th>Developer, full-stack</th>\n",
       "      <td>6928</td>\n",
       "    </tr>\n",
       "    <tr>\n",
       "      <th>Developer, game or graphics</th>\n",
       "      <td>472</td>\n",
       "    </tr>\n",
       "    <tr>\n",
       "      <th>Developer, mobile</th>\n",
       "      <td>1959</td>\n",
       "    </tr>\n",
       "    <tr>\n",
       "      <th>Educator</th>\n",
       "      <td>514</td>\n",
       "    </tr>\n",
       "    <tr>\n",
       "      <th>Engineer, data</th>\n",
       "      <td>832</td>\n",
       "    </tr>\n",
       "    <tr>\n",
       "      <th>Engineer, site reliability</th>\n",
       "      <td>449</td>\n",
       "    </tr>\n",
       "    <tr>\n",
       "      <th>Engineering manager</th>\n",
       "      <td>386</td>\n",
       "    </tr>\n",
       "    <tr>\n",
       "      <th>Marketing or sales professional</th>\n",
       "      <td>61</td>\n",
       "    </tr>\n",
       "    <tr>\n",
       "      <th>Product manager</th>\n",
       "      <td>480</td>\n",
       "    </tr>\n",
       "    <tr>\n",
       "      <th>Scientist</th>\n",
       "      <td>354</td>\n",
       "    </tr>\n",
       "    <tr>\n",
       "      <th>Senior executive/VP</th>\n",
       "      <td>160</td>\n",
       "    </tr>\n",
       "    <tr>\n",
       "      <th>Student</th>\n",
       "      <td>766</td>\n",
       "    </tr>\n",
       "    <tr>\n",
       "      <th>System administrator</th>\n",
       "      <td>1202</td>\n",
       "    </tr>\n",
       "  </tbody>\n",
       "</table>\n",
       "</div>"
      ],
      "text/plain": [
       "                                               Respondent\n",
       "DevType                                                  \n",
       "Academic researcher                                   556\n",
       "Data or business analyst                              802\n",
       "Data scientist or machine learning specialist         803\n",
       "Database administrator                               1413\n",
       "Designer                                              988\n",
       "DevOps specialist                                    1639\n",
       "Developer, QA or test                                 911\n",
       "Developer, back-end                                  6290\n",
       "Developer, desktop or enterprise applications        2575\n",
       "Developer, embedded applications or devices           854\n",
       "Developer, front-end                                 3920\n",
       "Developer, full-stack                                6928\n",
       "Developer, game or graphics                           472\n",
       "Developer, mobile                                    1959\n",
       "Educator                                              514\n",
       "Engineer, data                                        832\n",
       "Engineer, site reliability                            449\n",
       "Engineering manager                                   386\n",
       "Marketing or sales professional                        61\n",
       "Product manager                                       480\n",
       "Scientist                                             354\n",
       "Senior executive/VP                                   160\n",
       "Student                                               766\n",
       "System administrator                                 1202"
      ]
     },
     "execution_count": 86,
     "metadata": {},
     "output_type": "execute_result"
    }
   ],
   "source": [
    "QUERY = \"\"\"\n",
    "SELECT *\n",
    "FROM DevType\n",
    "WHERE DevType \n",
    "\"\"\"\n",
    "\n",
    "# the read_sql_query runs the sql query and returns the data as a dataframe\n",
    "df_dt = pd.read_sql_query(QUERY,conn)\n",
    "df_dt1 = df_dt.groupby('DevType').count()\n",
    "df_dt1"
   ]
  },
  {
   "cell_type": "code",
   "execution_count": 53,
   "metadata": {},
   "outputs": [],
   "source": [
    "conn.close()"
   ]
  },
  {
   "cell_type": "markdown",
   "metadata": {},
   "source": [
    "## Authors\n"
   ]
  },
  {
   "cell_type": "markdown",
   "metadata": {},
   "source": [
    "Ramesh Sannareddy\n"
   ]
  },
  {
   "cell_type": "markdown",
   "metadata": {},
   "source": [
    "### Other Contributors\n"
   ]
  },
  {
   "cell_type": "markdown",
   "metadata": {},
   "source": [
    "Rav Ahuja\n"
   ]
  },
  {
   "cell_type": "markdown",
   "metadata": {},
   "source": [
    "## Change Log\n"
   ]
  },
  {
   "cell_type": "markdown",
   "metadata": {},
   "source": [
    "| Date (YYYY-MM-DD) | Version | Changed By        | Change Description                 |\n",
    "| ----------------- | ------- | ----------------- | ---------------------------------- |\n",
    "| 2020-10-17        | 0.1     | Ramesh Sannareddy | Created initial version of the lab |\n"
   ]
  },
  {
   "cell_type": "markdown",
   "metadata": {},
   "source": [
    "Copyright © 2020 IBM Corporation. This notebook and its source code are released under the terms of the [MIT License](https://cognitiveclass.ai/mit-license?utm_medium=Exinfluencer&utm_source=Exinfluencer&utm_content=000026UJ&utm_term=10006555&utm_id=NA-SkillsNetwork-Channel-SkillsNetworkCoursesIBMDA0321ENSkillsNetwork21426264-2022-01-01&cm_mmc=Email_Newsletter-\\_-Developer_Ed%2BTech-\\_-WW_WW-\\_-SkillsNetwork-Courses-IBM-DA0321EN-SkillsNetwork-21426264&cm_mmca1=000026UJ&cm_mmca2=10006555&cm_mmca3=M12345678&cvosrc=email.Newsletter.M12345678&cvo_campaign=000026UJ).\n"
   ]
  }
 ],
 "metadata": {
  "kernelspec": {
   "display_name": "Python",
   "language": "python",
   "name": "conda-env-python-py"
  },
  "language_info": {
   "codemirror_mode": {
    "name": "ipython",
    "version": 3
   },
   "file_extension": ".py",
   "mimetype": "text/x-python",
   "name": "python",
   "nbconvert_exporter": "python",
   "pygments_lexer": "ipython3",
   "version": "3.7.12"
  }
 },
 "nbformat": 4,
 "nbformat_minor": 4
}
